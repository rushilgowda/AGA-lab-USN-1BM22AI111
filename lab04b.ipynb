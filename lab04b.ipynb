{
  "nbformat": 4,
  "nbformat_minor": 0,
  "metadata": {
    "colab": {
      "provenance": [],
      "gpuType": "T4",
      "authorship_tag": "ABX9TyNJiOTv6SR0CY+p7zdp9f5+",
      "include_colab_link": true
    },
    "kernelspec": {
      "name": "python3",
      "display_name": "Python 3"
    },
    "language_info": {
      "name": "python"
    },
    "accelerator": "GPU"
  },
  "cells": [
    {
      "cell_type": "markdown",
      "metadata": {
        "id": "view-in-github",
        "colab_type": "text"
      },
      "source": [
        "<a href=\"https://colab.research.google.com/github/rushilgowda/AGA-lab-USN-1BM22AI111/blob/main/lab04b.ipynb\" target=\"_parent\"><img src=\"https://colab.research.google.com/assets/colab-badge.svg\" alt=\"Open In Colab\"/></a>"
      ]
    },
    {
      "cell_type": "code",
      "source": [
        "\n",
        "import numpy as np\n",
        "import matplotlib.pyplot as plt\n",
        "from sklearn.datasets import fetch_openml\n",
        "from sklearn.preprocessing import Binarizer\n",
        "\n",
        "class RBM:\n",
        "    def __init__(self, n_visible, n_hidden):\n",
        "        self.n_visible = n_visible\n",
        "        self.n_hidden = n_hidden\n",
        "        self.W = np.random.randn(n_visible, n_hidden) * 0.1\n",
        "        self.a = np.zeros(n_visible)\n",
        "        self.b = np.zeros(n_hidden)\n",
        "\n",
        "    def sample_h_given_v(self, v):\n",
        "        h_prob = 1 / (1 + np.exp(-(np.dot(v, self.W) + self.b)))\n",
        "        return h_prob, (h_prob > np.random.rand(*h_prob.shape)).astype(int)\n",
        "\n",
        "    def sample_v_given_h(self, h):\n",
        "        v_prob = 1 / (1 + np.exp(-(np.dot(h, self.W.T) + self.a)))\n",
        "        return v_prob, (v_prob > np.random.rand(*v_prob.shape)).astype(int)\n",
        "\n",
        "    def train(self, data, epochs=5, batch_size=100, learning_rate=0.1):\n",
        "        for epoch in range(epochs):\n",
        "            np.random.shuffle(data)\n",
        "            for i in range(0, len(data), batch_size):\n",
        "                batch = data[i:i + batch_size]\n",
        "                v0 = batch\n",
        "                h0_prob, h0 = self.sample_h_given_v(v0)\n",
        "                v1_prob, v1 = self.sample_v_given_h(h0)\n",
        "                h1_prob, h1 = self.sample_h_given_v(v1)\n",
        "\n",
        "                positive_grad = np.dot(v0.T, h0)\n",
        "                negative_grad = np.dot(v1.T, h1)\n",
        "\n",
        "                self.W += learning_rate * (positive_grad - negative_grad) / batch_size\n",
        "                self.a += learning_rate * np.mean(v0 - v1, axis=0)\n",
        "                self.b += learning_rate * np.mean(h0 - h1, axis=0)\n",
        "\n",
        "    def reconstruct(self, v):\n",
        "        h_prob, h = self.sample_h_given_v(v)\n",
        "        v_prob, v_reconstructed = self.sample_v_given_h(h)\n",
        "        return v_reconstructed\n",
        "\n",
        "def plot_reconstruction(original, reconstructed):\n",
        "    fig, ax = plt.subplots(1, 2, figsize=(10, 5))\n",
        "    ax[0].imshow(original.reshape(28, 28), cmap='gray')\n",
        "    ax[0].set_title('Original')\n",
        "    ax[1].imshow(reconstructed.reshape(28, 28), cmap='gray')\n",
        "    ax[1].set_title('Reconstructed')\n",
        "    plt.show()\n",
        "\n",
        "if __name__ == \"__main__\":\n",
        "    mnist = fetch_openml('mnist_784', version=1, parser=\"auto\")\n",
        "    data = mnist.data.to_numpy() / 255.0\n",
        "\n",
        "    binarizer = Binarizer(threshold=0.5)\n",
        "    data = binarizer.fit_transform(data)\n",
        "\n",
        "    rbm = RBM(n_visible=784, n_hidden=64)\n",
        "    rbm.train(data, epochs=5)\n",
        "\n",
        "    sample_idx = 0\n",
        "    sample = data[sample_idx]\n",
        "    reconstructed_sample = rbm.reconstruct(sample)\n",
        "\n",
        "    plot_reconstruction(sample, reconstructed_sample)"
      ],
      "metadata": {
        "colab": {
          "base_uri": "https://localhost:8080/",
          "height": 435
        },
        "id": "yC0fGbtKVcNJ",
        "outputId": "e836b60d-09ad-42e7-e30e-eadb6b5c4c92"
      },
      "execution_count": 4,
      "outputs": [
        {
          "output_type": "display_data",
          "data": {
            "text/plain": [
              "<Figure size 1000x500 with 2 Axes>"
            ],
            "image/png": "[encoded data removed]"
          },
          "metadata": {}
        }
      ]
    }
  ]
}